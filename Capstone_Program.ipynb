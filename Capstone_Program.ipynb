{
 "cells": [
  {
   "cell_type": "markdown",
   "metadata": {},
   "source": [
    "# Notebook for the Capstone Project"
   ]
  },
  {
   "cell_type": "code",
   "execution_count": 1,
   "metadata": {},
   "outputs": [
    {
     "name": "stdout",
     "output_type": "stream",
     "text": [
      "Hello Capstone Project Course\n"
     ]
    }
   ],
   "source": [
    "#Import Libraries\n",
    "import pandas as pd \n",
    "import numpy as np\n",
    "from sklearn.utils import resample\n",
    "\n",
    "print('Hello Capstone Project Course')"
   ]
  },
  {
   "cell_type": "markdown",
   "metadata": {},
   "source": [
    "# Introduction/Business Problem \n",
    "\n",
    "- Business Problem: \n",
    "    - Accidents continue to block traffic and cause backups in the greater Seattle area.  In order to help alleviate the congestion during peak hours of travel we need to know what causes them in the first place.  \n",
    "\n",
    "\n",
    "- Hypothesis/Thoughts: \n",
    "    - The date/time of day effects the amount of accidents that will occur\n",
    "        - Independent Variable: Date/Time\n",
    "    - The severity of an accident is determened by location and time\n",
    "        - Independent Variable: Locaiton & Time\n",
    "    \n",
    "    \n",
    "    New Hypothesis after extensive data exploration: Road Conditions are the influence in the severity of the accident when all things are equal; i.e. not considering drugs/alcohol etc. \n",
    "\n",
    "\n",
    "- Data Background: \n",
    "    - SDOT (Seattle Department of Transportation) Data \n",
    "    - Removed 5,639 of the 194,673 rows in the initial data set that were noted NEI (Not enough Information or Insufficient Location Information)\n",
    "    - Data can be found via GitHub URL with the metadata descriptions.  \n",
    "    - Date Time cannot be used to predict severity due to the inconsistency of the data entered\n",
    "    - Severity Code & Severity Code Definitions:\n",
    "        - 0: Little to no Probability (Clear Conditions)\n",
    "        - 1: Very Low Probability — Chance or Property Damage\n",
    "        - 2: Low Probability — Chance of Injury\n",
    "        - 3: Mild Probability — Chance of Serious Injury\n",
    "        - 4: High Probability — Chance of Fatality"
   ]
  },
  {
   "cell_type": "code",
   "execution_count": 2,
   "metadata": {},
   "outputs": [],
   "source": [
    "data = pd.read_csv('SDOT_Collisions.csv')"
   ]
  },
  {
   "cell_type": "code",
   "execution_count": 3,
   "metadata": {},
   "outputs": [
    {
     "data": {
      "text/html": [
       "<div>\n",
       "<style scoped>\n",
       "    .dataframe tbody tr th:only-of-type {\n",
       "        vertical-align: middle;\n",
       "    }\n",
       "\n",
       "    .dataframe tbody tr th {\n",
       "        vertical-align: top;\n",
       "    }\n",
       "\n",
       "    .dataframe thead th {\n",
       "        text-align: right;\n",
       "    }\n",
       "</style>\n",
       "<table border=\"1\" class=\"dataframe\">\n",
       "  <thead>\n",
       "    <tr style=\"text-align: right;\">\n",
       "      <th></th>\n",
       "      <th>OBJECTID</th>\n",
       "      <th>INTKEY</th>\n",
       "      <th>SEVERITYCODE</th>\n",
       "      <th>PERSONCOUNT</th>\n",
       "      <th>PEDCOUNT</th>\n",
       "      <th>PEDCYLCOUNT</th>\n",
       "      <th>VEHCOUNT</th>\n",
       "      <th>SDOT_COLCODE</th>\n",
       "      <th>SDOTCOLNUM</th>\n",
       "      <th>SEGLANEKEY</th>\n",
       "      <th>CROSSWALKKEY</th>\n",
       "    </tr>\n",
       "  </thead>\n",
       "  <tbody>\n",
       "    <tr>\n",
       "      <th>count</th>\n",
       "      <td>57902.000000</td>\n",
       "      <td>21093.000000</td>\n",
       "      <td>57902.000000</td>\n",
       "      <td>57901.000000</td>\n",
       "      <td>57901.000000</td>\n",
       "      <td>57901.000000</td>\n",
       "      <td>57901.000000</td>\n",
       "      <td>57901.000000</td>\n",
       "      <td>4.114000e+03</td>\n",
       "      <td>57901.000000</td>\n",
       "      <td>57901.000000</td>\n",
       "    </tr>\n",
       "    <tr>\n",
       "      <th>mean</th>\n",
       "      <td>152805.291821</td>\n",
       "      <td>39702.077419</td>\n",
       "      <td>1.338088</td>\n",
       "      <td>2.300116</td>\n",
       "      <td>0.063039</td>\n",
       "      <td>0.039792</td>\n",
       "      <td>1.866341</td>\n",
       "      <td>14.404881</td>\n",
       "      <td>1.149306e+07</td>\n",
       "      <td>476.019015</td>\n",
       "      <td>28179.457211</td>\n",
       "    </tr>\n",
       "    <tr>\n",
       "      <th>std</th>\n",
       "      <td>35121.399719</td>\n",
       "      <td>60018.198383</td>\n",
       "      <td>0.473063</td>\n",
       "      <td>1.466764</td>\n",
       "      <td>0.254422</td>\n",
       "      <td>0.197231</td>\n",
       "      <td>0.698291</td>\n",
       "      <td>7.046695</td>\n",
       "      <td>1.941865e+06</td>\n",
       "      <td>4636.402183</td>\n",
       "      <td>118954.946292</td>\n",
       "    </tr>\n",
       "    <tr>\n",
       "      <th>min</th>\n",
       "      <td>1.000000</td>\n",
       "      <td>23807.000000</td>\n",
       "      <td>1.000000</td>\n",
       "      <td>0.000000</td>\n",
       "      <td>0.000000</td>\n",
       "      <td>0.000000</td>\n",
       "      <td>0.000000</td>\n",
       "      <td>0.000000</td>\n",
       "      <td>3.137016e+06</td>\n",
       "      <td>0.000000</td>\n",
       "      <td>0.000000</td>\n",
       "    </tr>\n",
       "    <tr>\n",
       "      <th>25%</th>\n",
       "      <td>139877.250000</td>\n",
       "      <td>28734.000000</td>\n",
       "      <td>1.000000</td>\n",
       "      <td>2.000000</td>\n",
       "      <td>0.000000</td>\n",
       "      <td>0.000000</td>\n",
       "      <td>2.000000</td>\n",
       "      <td>11.000000</td>\n",
       "      <td>1.024851e+07</td>\n",
       "      <td>0.000000</td>\n",
       "      <td>0.000000</td>\n",
       "    </tr>\n",
       "    <tr>\n",
       "      <th>50%</th>\n",
       "      <td>157228.000000</td>\n",
       "      <td>30056.000000</td>\n",
       "      <td>1.000000</td>\n",
       "      <td>2.000000</td>\n",
       "      <td>0.000000</td>\n",
       "      <td>0.000000</td>\n",
       "      <td>2.000000</td>\n",
       "      <td>13.000000</td>\n",
       "      <td>1.225201e+07</td>\n",
       "      <td>0.000000</td>\n",
       "      <td>0.000000</td>\n",
       "    </tr>\n",
       "    <tr>\n",
       "      <th>75%</th>\n",
       "      <td>175916.750000</td>\n",
       "      <td>34111.000000</td>\n",
       "      <td>2.000000</td>\n",
       "      <td>3.000000</td>\n",
       "      <td>0.000000</td>\n",
       "      <td>0.000000</td>\n",
       "      <td>2.000000</td>\n",
       "      <td>14.000000</td>\n",
       "      <td>1.303002e+07</td>\n",
       "      <td>0.000000</td>\n",
       "      <td>0.000000</td>\n",
       "    </tr>\n",
       "    <tr>\n",
       "      <th>max</th>\n",
       "      <td>193731.000000</td>\n",
       "      <td>673471.000000</td>\n",
       "      <td>2.000000</td>\n",
       "      <td>54.000000</td>\n",
       "      <td>4.000000</td>\n",
       "      <td>2.000000</td>\n",
       "      <td>12.000000</td>\n",
       "      <td>69.000000</td>\n",
       "      <td>1.307202e+07</td>\n",
       "      <td>525241.000000</td>\n",
       "      <td>701280.000000</td>\n",
       "    </tr>\n",
       "  </tbody>\n",
       "</table>\n",
       "</div>"
      ],
      "text/plain": [
       "            OBJECTID         INTKEY  SEVERITYCODE   PERSONCOUNT      PEDCOUNT  \\\n",
       "count   57902.000000   21093.000000  57902.000000  57901.000000  57901.000000   \n",
       "mean   152805.291821   39702.077419      1.338088      2.300116      0.063039   \n",
       "std     35121.399719   60018.198383      0.473063      1.466764      0.254422   \n",
       "min         1.000000   23807.000000      1.000000      0.000000      0.000000   \n",
       "25%    139877.250000   28734.000000      1.000000      2.000000      0.000000   \n",
       "50%    157228.000000   30056.000000      1.000000      2.000000      0.000000   \n",
       "75%    175916.750000   34111.000000      2.000000      3.000000      0.000000   \n",
       "max    193731.000000  673471.000000      2.000000     54.000000      4.000000   \n",
       "\n",
       "        PEDCYLCOUNT      VEHCOUNT  SDOT_COLCODE    SDOTCOLNUM     SEGLANEKEY  \\\n",
       "count  57901.000000  57901.000000  57901.000000  4.114000e+03   57901.000000   \n",
       "mean       0.039792      1.866341     14.404881  1.149306e+07     476.019015   \n",
       "std        0.197231      0.698291      7.046695  1.941865e+06    4636.402183   \n",
       "min        0.000000      0.000000      0.000000  3.137016e+06       0.000000   \n",
       "25%        0.000000      2.000000     11.000000  1.024851e+07       0.000000   \n",
       "50%        0.000000      2.000000     13.000000  1.225201e+07       0.000000   \n",
       "75%        0.000000      2.000000     14.000000  1.303002e+07       0.000000   \n",
       "max        2.000000     12.000000     69.000000  1.307202e+07  525241.000000   \n",
       "\n",
       "        CROSSWALKKEY  \n",
       "count   57901.000000  \n",
       "mean    28179.457211  \n",
       "std    118954.946292  \n",
       "min         0.000000  \n",
       "25%         0.000000  \n",
       "50%         0.000000  \n",
       "75%         0.000000  \n",
       "max    701280.000000  "
      ]
     },
     "execution_count": 3,
     "metadata": {},
     "output_type": "execute_result"
    }
   ],
   "source": [
    "data.describe()"
   ]
  },
  {
   "cell_type": "code",
   "execution_count": 4,
   "metadata": {},
   "outputs": [
    {
     "data": {
      "text/html": [
       "<div>\n",
       "<style scoped>\n",
       "    .dataframe tbody tr th:only-of-type {\n",
       "        vertical-align: middle;\n",
       "    }\n",
       "\n",
       "    .dataframe tbody tr th {\n",
       "        vertical-align: top;\n",
       "    }\n",
       "\n",
       "    .dataframe thead th {\n",
       "        text-align: right;\n",
       "    }\n",
       "</style>\n",
       "<table border=\"1\" class=\"dataframe\">\n",
       "  <thead>\n",
       "    <tr style=\"text-align: right;\">\n",
       "      <th></th>\n",
       "      <th>OBJECTID</th>\n",
       "      <th>ADDRTYPE</th>\n",
       "      <th>INTKEY</th>\n",
       "      <th>LOCATION</th>\n",
       "      <th>SEVERITYCODE</th>\n",
       "      <th>SEVERITYDESC</th>\n",
       "      <th>COLLISIONTYPE</th>\n",
       "      <th>PERSONCOUNT</th>\n",
       "      <th>PEDCOUNT</th>\n",
       "      <th>PEDCYLCOUNT</th>\n",
       "      <th>...</th>\n",
       "      <th>ROADCOND</th>\n",
       "      <th>LIGHTCOND</th>\n",
       "      <th>PEDROWNOTGRNT</th>\n",
       "      <th>SDOTCOLNUM</th>\n",
       "      <th>SPEEDING</th>\n",
       "      <th>ST_COLCODE</th>\n",
       "      <th>ST_COLDESC</th>\n",
       "      <th>SEGLANEKEY</th>\n",
       "      <th>CROSSWALKKEY</th>\n",
       "      <th>HITPARKEDCAR</th>\n",
       "    </tr>\n",
       "  </thead>\n",
       "  <tbody>\n",
       "    <tr>\n",
       "      <th>0</th>\n",
       "      <td>1</td>\n",
       "      <td>Intersection</td>\n",
       "      <td>37475.0</td>\n",
       "      <td>5TH AVE NE AND NE 103RD ST</td>\n",
       "      <td>2</td>\n",
       "      <td>Injury Collision</td>\n",
       "      <td>Angles</td>\n",
       "      <td>2.0</td>\n",
       "      <td>0.0</td>\n",
       "      <td>0.0</td>\n",
       "      <td>...</td>\n",
       "      <td>Wet</td>\n",
       "      <td>Daylight</td>\n",
       "      <td>NaN</td>\n",
       "      <td>NaN</td>\n",
       "      <td>NaN</td>\n",
       "      <td>10</td>\n",
       "      <td>Entering at angle</td>\n",
       "      <td>0.0</td>\n",
       "      <td>0.0</td>\n",
       "      <td>N</td>\n",
       "    </tr>\n",
       "    <tr>\n",
       "      <th>1</th>\n",
       "      <td>4</td>\n",
       "      <td>Block</td>\n",
       "      <td>NaN</td>\n",
       "      <td>2ND AVE BETWEEN MARION ST AND MADISON ST</td>\n",
       "      <td>1</td>\n",
       "      <td>Property Damage Only Collision</td>\n",
       "      <td>Other</td>\n",
       "      <td>3.0</td>\n",
       "      <td>0.0</td>\n",
       "      <td>0.0</td>\n",
       "      <td>...</td>\n",
       "      <td>Dry</td>\n",
       "      <td>Daylight</td>\n",
       "      <td>NaN</td>\n",
       "      <td>NaN</td>\n",
       "      <td>NaN</td>\n",
       "      <td>23</td>\n",
       "      <td>From same direction - all others</td>\n",
       "      <td>0.0</td>\n",
       "      <td>0.0</td>\n",
       "      <td>N</td>\n",
       "    </tr>\n",
       "    <tr>\n",
       "      <th>2</th>\n",
       "      <td>6</td>\n",
       "      <td>Intersection</td>\n",
       "      <td>36974.0</td>\n",
       "      <td>24TH AVE NW AND NW 85TH ST</td>\n",
       "      <td>1</td>\n",
       "      <td>Property Damage Only Collision</td>\n",
       "      <td>Angles</td>\n",
       "      <td>2.0</td>\n",
       "      <td>0.0</td>\n",
       "      <td>0.0</td>\n",
       "      <td>...</td>\n",
       "      <td>Dry</td>\n",
       "      <td>Daylight</td>\n",
       "      <td>NaN</td>\n",
       "      <td>NaN</td>\n",
       "      <td>NaN</td>\n",
       "      <td>10</td>\n",
       "      <td>Entering at angle</td>\n",
       "      <td>0.0</td>\n",
       "      <td>0.0</td>\n",
       "      <td>N</td>\n",
       "    </tr>\n",
       "    <tr>\n",
       "      <th>3</th>\n",
       "      <td>9</td>\n",
       "      <td>Intersection</td>\n",
       "      <td>29745.0</td>\n",
       "      <td>BROADWAY AND E PIKE ST</td>\n",
       "      <td>2</td>\n",
       "      <td>Injury Collision</td>\n",
       "      <td>Cycles</td>\n",
       "      <td>3.0</td>\n",
       "      <td>0.0</td>\n",
       "      <td>1.0</td>\n",
       "      <td>...</td>\n",
       "      <td>Dry</td>\n",
       "      <td>Daylight</td>\n",
       "      <td>NaN</td>\n",
       "      <td>NaN</td>\n",
       "      <td>NaN</td>\n",
       "      <td>5</td>\n",
       "      <td>Vehicle Strikes Pedalcyclist</td>\n",
       "      <td>6855.0</td>\n",
       "      <td>0.0</td>\n",
       "      <td>N</td>\n",
       "    </tr>\n",
       "    <tr>\n",
       "      <th>4</th>\n",
       "      <td>16</td>\n",
       "      <td>Block</td>\n",
       "      <td>NaN</td>\n",
       "      <td>SW SPOKANE ST BETWEEN SW SPOKANE W BR AND TERM...</td>\n",
       "      <td>1</td>\n",
       "      <td>Property Damage Only Collision</td>\n",
       "      <td>Rear Ended</td>\n",
       "      <td>0.0</td>\n",
       "      <td>0.0</td>\n",
       "      <td>0.0</td>\n",
       "      <td>...</td>\n",
       "      <td>Wet</td>\n",
       "      <td>Dark - Street Lights On</td>\n",
       "      <td>NaN</td>\n",
       "      <td>3137016.0</td>\n",
       "      <td>NaN</td>\n",
       "      <td>14</td>\n",
       "      <td>From same direction - both going straight - on...</td>\n",
       "      <td>0.0</td>\n",
       "      <td>0.0</td>\n",
       "      <td>N</td>\n",
       "    </tr>\n",
       "  </tbody>\n",
       "</table>\n",
       "<p>5 rows × 28 columns</p>\n",
       "</div>"
      ],
      "text/plain": [
       "   OBJECTID      ADDRTYPE   INTKEY  \\\n",
       "0         1  Intersection  37475.0   \n",
       "1         4         Block      NaN   \n",
       "2         6  Intersection  36974.0   \n",
       "3         9  Intersection  29745.0   \n",
       "4        16         Block      NaN   \n",
       "\n",
       "                                            LOCATION  SEVERITYCODE  \\\n",
       "0                         5TH AVE NE AND NE 103RD ST             2   \n",
       "1           2ND AVE BETWEEN MARION ST AND MADISON ST             1   \n",
       "2                         24TH AVE NW AND NW 85TH ST             1   \n",
       "3                             BROADWAY AND E PIKE ST             2   \n",
       "4  SW SPOKANE ST BETWEEN SW SPOKANE W BR AND TERM...             1   \n",
       "\n",
       "                     SEVERITYDESC COLLISIONTYPE  PERSONCOUNT  PEDCOUNT  \\\n",
       "0                Injury Collision        Angles          2.0       0.0   \n",
       "1  Property Damage Only Collision         Other          3.0       0.0   \n",
       "2  Property Damage Only Collision        Angles          2.0       0.0   \n",
       "3                Injury Collision        Cycles          3.0       0.0   \n",
       "4  Property Damage Only Collision    Rear Ended          0.0       0.0   \n",
       "\n",
       "   PEDCYLCOUNT  ...  ROADCOND                LIGHTCOND PEDROWNOTGRNT  \\\n",
       "0          0.0  ...       Wet                 Daylight           NaN   \n",
       "1          0.0  ...       Dry                 Daylight           NaN   \n",
       "2          0.0  ...       Dry                 Daylight           NaN   \n",
       "3          1.0  ...       Dry                 Daylight           NaN   \n",
       "4          0.0  ...       Wet  Dark - Street Lights On           NaN   \n",
       "\n",
       "   SDOTCOLNUM SPEEDING ST_COLCODE  \\\n",
       "0         NaN      NaN         10   \n",
       "1         NaN      NaN         23   \n",
       "2         NaN      NaN         10   \n",
       "3         NaN      NaN          5   \n",
       "4   3137016.0      NaN         14   \n",
       "\n",
       "                                          ST_COLDESC SEGLANEKEY CROSSWALKKEY  \\\n",
       "0                                  Entering at angle        0.0          0.0   \n",
       "1                   From same direction - all others        0.0          0.0   \n",
       "2                                  Entering at angle        0.0          0.0   \n",
       "3                       Vehicle Strikes Pedalcyclist     6855.0          0.0   \n",
       "4  From same direction - both going straight - on...        0.0          0.0   \n",
       "\n",
       "  HITPARKEDCAR  \n",
       "0            N  \n",
       "1            N  \n",
       "2            N  \n",
       "3            N  \n",
       "4            N  \n",
       "\n",
       "[5 rows x 28 columns]"
      ]
     },
     "execution_count": 4,
     "metadata": {},
     "output_type": "execute_result"
    }
   ],
   "source": [
    "data.head()"
   ]
  },
  {
   "cell_type": "markdown",
   "metadata": {},
   "source": [
    "#### Check Unique Values"
   ]
  },
  {
   "cell_type": "code",
   "execution_count": 5,
   "metadata": {},
   "outputs": [
    {
     "data": {
      "text/plain": [
       "1    38326\n",
       "2    19576\n",
       "Name: SEVERITYCODE, dtype: int64"
      ]
     },
     "execution_count": 5,
     "metadata": {},
     "output_type": "execute_result"
    }
   ],
   "source": [
    "data['SEVERITYCODE'].value_counts()"
   ]
  },
  {
   "cell_type": "code",
   "execution_count": 6,
   "metadata": {},
   "outputs": [
    {
     "data": {
      "text/plain": [
       "Clear                       34079\n",
       "Raining                     10204\n",
       "Overcast                     7995\n",
       "Unknown                      2725\n",
       "Fog/Smog/Smoke                237\n",
       "Snowing                       182\n",
       "Other                         141\n",
       "Sleet/Hail/Freezing Rain       22\n",
       "Blowing Sand/Dirt               9\n",
       "Severe Crosswind                8\n",
       "Name: WEATHER, dtype: int64"
      ]
     },
     "execution_count": 6,
     "metadata": {},
     "output_type": "execute_result"
    }
   ],
   "source": [
    "data['WEATHER'].value_counts()"
   ]
  },
  {
   "cell_type": "code",
   "execution_count": 7,
   "metadata": {},
   "outputs": [
    {
     "data": {
      "text/plain": [
       "Dry               37876\n",
       "Wet               14481\n",
       "Unknown            2806\n",
       "Snow/Slush          209\n",
       "Ice                 189\n",
       "Other                31\n",
       "Standing Water       27\n",
       "Oil                  15\n",
       "Sand/Mud/Dirt        14\n",
       "Name: ROADCOND, dtype: int64"
      ]
     },
     "execution_count": 7,
     "metadata": {},
     "output_type": "execute_result"
    }
   ],
   "source": [
    "data['ROADCOND'].value_counts()"
   ]
  },
  {
   "cell_type": "code",
   "execution_count": 8,
   "metadata": {},
   "outputs": [
    {
     "data": {
      "text/plain": [
       "Daylight                    35235\n",
       "Dark - Street Lights On     14430\n",
       "Unknown                      2488\n",
       "Dusk                         1675\n",
       "Dawn                          839\n",
       "Dark - No Street Lights       431\n",
       "Dark - Street Lights Off      373\n",
       "Other                          57\n",
       "Dark - Unknown Lighting         1\n",
       "Name: LIGHTCOND, dtype: int64"
      ]
     },
     "execution_count": 8,
     "metadata": {},
     "output_type": "execute_result"
    }
   ],
   "source": [
    "data['LIGHTCOND'].value_counts()"
   ]
  },
  {
   "cell_type": "code",
   "execution_count": 9,
   "metadata": {},
   "outputs": [
    {
     "data": {
      "text/plain": [
       "Y    2222\n",
       "Name: SPEEDING, dtype: int64"
      ]
     },
     "execution_count": 9,
     "metadata": {},
     "output_type": "execute_result"
    }
   ],
   "source": [
    "data['SPEEDING'].value_counts()"
   ]
  },
  {
   "cell_type": "markdown",
   "metadata": {},
   "source": [
    "#### Evening the sample size out "
   ]
  },
  {
   "cell_type": "code",
   "execution_count": 10,
   "metadata": {},
   "outputs": [
    {
     "data": {
      "text/plain": [
       "2    19576\n",
       "1    19576\n",
       "Name: SEVERITYCODE, dtype: int64"
      ]
     },
     "execution_count": 10,
     "metadata": {},
     "output_type": "execute_result"
    }
   ],
   "source": [
    "df_major = data[data.SEVERITYCODE == 1]\n",
    "df_minor = data[data.SEVERITYCODE == 2]\n",
    "\n",
    "df_smpl = resample(df_major, replace=False, n_samples = 19576, random_state=123)\n",
    "df = pd.concat([df_smpl,df_minor])\n",
    "\n",
    "df['SEVERITYCODE'].value_counts()"
   ]
  },
  {
   "cell_type": "markdown",
   "metadata": {},
   "source": [
    "#### Converting fields to category then labeling  "
   ]
  },
  {
   "cell_type": "code",
   "execution_count": 11,
   "metadata": {},
   "outputs": [
    {
     "data": {
      "text/html": [
       "<div>\n",
       "<style scoped>\n",
       "    .dataframe tbody tr th:only-of-type {\n",
       "        vertical-align: middle;\n",
       "    }\n",
       "\n",
       "    .dataframe tbody tr th {\n",
       "        vertical-align: top;\n",
       "    }\n",
       "\n",
       "    .dataframe thead th {\n",
       "        text-align: right;\n",
       "    }\n",
       "</style>\n",
       "<table border=\"1\" class=\"dataframe\">\n",
       "  <thead>\n",
       "    <tr style=\"text-align: right;\">\n",
       "      <th></th>\n",
       "      <th>OBJECTID</th>\n",
       "      <th>ADDRTYPE</th>\n",
       "      <th>INTKEY</th>\n",
       "      <th>LOCATION</th>\n",
       "      <th>SEVERITYCODE</th>\n",
       "      <th>SEVERITYDESC</th>\n",
       "      <th>COLLISIONTYPE</th>\n",
       "      <th>PERSONCOUNT</th>\n",
       "      <th>PEDCOUNT</th>\n",
       "      <th>PEDCYLCOUNT</th>\n",
       "      <th>...</th>\n",
       "      <th>ROADCOND</th>\n",
       "      <th>LIGHTCOND</th>\n",
       "      <th>PEDROWNOTGRNT</th>\n",
       "      <th>SDOTCOLNUM</th>\n",
       "      <th>SPEEDING</th>\n",
       "      <th>ST_COLCODE</th>\n",
       "      <th>ST_COLDESC</th>\n",
       "      <th>SEGLANEKEY</th>\n",
       "      <th>CROSSWALKKEY</th>\n",
       "      <th>HITPARKEDCAR</th>\n",
       "    </tr>\n",
       "  </thead>\n",
       "  <tbody>\n",
       "    <tr>\n",
       "      <th>21048</th>\n",
       "      <td>147425</td>\n",
       "      <td>Block</td>\n",
       "      <td>NaN</td>\n",
       "      <td>MERCER SR ST BETWEEN WESTLAKE AVE N AND TERRY ...</td>\n",
       "      <td>1</td>\n",
       "      <td>Property Damage Only Collision</td>\n",
       "      <td>Rear Ended</td>\n",
       "      <td>2.0</td>\n",
       "      <td>0.0</td>\n",
       "      <td>0.0</td>\n",
       "      <td>...</td>\n",
       "      <td>Unknown</td>\n",
       "      <td>Unknown</td>\n",
       "      <td>NaN</td>\n",
       "      <td>NaN</td>\n",
       "      <td>NaN</td>\n",
       "      <td>14</td>\n",
       "      <td>From same direction - both going straight - on...</td>\n",
       "      <td>0.0</td>\n",
       "      <td>0.0</td>\n",
       "      <td>N</td>\n",
       "    </tr>\n",
       "    <tr>\n",
       "      <th>51253</th>\n",
       "      <td>185270</td>\n",
       "      <td>Block</td>\n",
       "      <td>NaN</td>\n",
       "      <td>UNION ST BETWEEN 7TH AVE AND CONVENTION PL</td>\n",
       "      <td>1</td>\n",
       "      <td>Property Damage Only Collision</td>\n",
       "      <td>Sideswipe</td>\n",
       "      <td>2.0</td>\n",
       "      <td>0.0</td>\n",
       "      <td>0.0</td>\n",
       "      <td>...</td>\n",
       "      <td>Dry</td>\n",
       "      <td>Daylight</td>\n",
       "      <td>NaN</td>\n",
       "      <td>NaN</td>\n",
       "      <td>NaN</td>\n",
       "      <td>11</td>\n",
       "      <td>From same direction - both going straight - bo...</td>\n",
       "      <td>0.0</td>\n",
       "      <td>0.0</td>\n",
       "      <td>N</td>\n",
       "    </tr>\n",
       "    <tr>\n",
       "      <th>26727</th>\n",
       "      <td>153893</td>\n",
       "      <td>Block</td>\n",
       "      <td>NaN</td>\n",
       "      <td>24TH AVE NW BETWEEN NW 56TH ST AND NW 57TH ST</td>\n",
       "      <td>1</td>\n",
       "      <td>Property Damage Only Collision</td>\n",
       "      <td>Sideswipe</td>\n",
       "      <td>2.0</td>\n",
       "      <td>0.0</td>\n",
       "      <td>0.0</td>\n",
       "      <td>...</td>\n",
       "      <td>Dry</td>\n",
       "      <td>Daylight</td>\n",
       "      <td>NaN</td>\n",
       "      <td>NaN</td>\n",
       "      <td>NaN</td>\n",
       "      <td>12</td>\n",
       "      <td>From same direction - both going straight - on...</td>\n",
       "      <td>0.0</td>\n",
       "      <td>0.0</td>\n",
       "      <td>N</td>\n",
       "    </tr>\n",
       "    <tr>\n",
       "      <th>56488</th>\n",
       "      <td>191822</td>\n",
       "      <td>Block</td>\n",
       "      <td>NaN</td>\n",
       "      <td>W NICKERSON ST BETWEEN W BERTONA ST AND 3RD AVE W</td>\n",
       "      <td>1</td>\n",
       "      <td>Property Damage Only Collision</td>\n",
       "      <td>Other</td>\n",
       "      <td>1.0</td>\n",
       "      <td>0.0</td>\n",
       "      <td>0.0</td>\n",
       "      <td>...</td>\n",
       "      <td>Dry</td>\n",
       "      <td>Daylight</td>\n",
       "      <td>NaN</td>\n",
       "      <td>NaN</td>\n",
       "      <td>NaN</td>\n",
       "      <td>50</td>\n",
       "      <td>Fixed object</td>\n",
       "      <td>0.0</td>\n",
       "      <td>0.0</td>\n",
       "      <td>N</td>\n",
       "    </tr>\n",
       "    <tr>\n",
       "      <th>22942</th>\n",
       "      <td>149529</td>\n",
       "      <td>Block</td>\n",
       "      <td>NaN</td>\n",
       "      <td>ALASKAN WY VI NB BETWEEN SENECA ST OFF RP AND ...</td>\n",
       "      <td>1</td>\n",
       "      <td>Property Damage Only Collision</td>\n",
       "      <td>Sideswipe</td>\n",
       "      <td>7.0</td>\n",
       "      <td>0.0</td>\n",
       "      <td>0.0</td>\n",
       "      <td>...</td>\n",
       "      <td>Dry</td>\n",
       "      <td>Dark - Street Lights On</td>\n",
       "      <td>NaN</td>\n",
       "      <td>NaN</td>\n",
       "      <td>NaN</td>\n",
       "      <td>11</td>\n",
       "      <td>From same direction - both going straight - bo...</td>\n",
       "      <td>0.0</td>\n",
       "      <td>0.0</td>\n",
       "      <td>N</td>\n",
       "    </tr>\n",
       "  </tbody>\n",
       "</table>\n",
       "<p>5 rows × 28 columns</p>\n",
       "</div>"
      ],
      "text/plain": [
       "       OBJECTID ADDRTYPE  INTKEY  \\\n",
       "21048    147425    Block     NaN   \n",
       "51253    185270    Block     NaN   \n",
       "26727    153893    Block     NaN   \n",
       "56488    191822    Block     NaN   \n",
       "22942    149529    Block     NaN   \n",
       "\n",
       "                                                LOCATION  SEVERITYCODE  \\\n",
       "21048  MERCER SR ST BETWEEN WESTLAKE AVE N AND TERRY ...             1   \n",
       "51253         UNION ST BETWEEN 7TH AVE AND CONVENTION PL             1   \n",
       "26727      24TH AVE NW BETWEEN NW 56TH ST AND NW 57TH ST             1   \n",
       "56488  W NICKERSON ST BETWEEN W BERTONA ST AND 3RD AVE W             1   \n",
       "22942  ALASKAN WY VI NB BETWEEN SENECA ST OFF RP AND ...             1   \n",
       "\n",
       "                         SEVERITYDESC COLLISIONTYPE  PERSONCOUNT  PEDCOUNT  \\\n",
       "21048  Property Damage Only Collision    Rear Ended          2.0       0.0   \n",
       "51253  Property Damage Only Collision     Sideswipe          2.0       0.0   \n",
       "26727  Property Damage Only Collision     Sideswipe          2.0       0.0   \n",
       "56488  Property Damage Only Collision         Other          1.0       0.0   \n",
       "22942  Property Damage Only Collision     Sideswipe          7.0       0.0   \n",
       "\n",
       "       PEDCYLCOUNT  ...  ROADCOND                LIGHTCOND PEDROWNOTGRNT  \\\n",
       "21048          0.0  ...   Unknown                  Unknown           NaN   \n",
       "51253          0.0  ...       Dry                 Daylight           NaN   \n",
       "26727          0.0  ...       Dry                 Daylight           NaN   \n",
       "56488          0.0  ...       Dry                 Daylight           NaN   \n",
       "22942          0.0  ...       Dry  Dark - Street Lights On           NaN   \n",
       "\n",
       "       SDOTCOLNUM SPEEDING ST_COLCODE  \\\n",
       "21048         NaN      NaN         14   \n",
       "51253         NaN      NaN         11   \n",
       "26727         NaN      NaN         12   \n",
       "56488         NaN      NaN         50   \n",
       "22942         NaN      NaN         11   \n",
       "\n",
       "                                              ST_COLDESC SEGLANEKEY  \\\n",
       "21048  From same direction - both going straight - on...        0.0   \n",
       "51253  From same direction - both going straight - bo...        0.0   \n",
       "26727  From same direction - both going straight - on...        0.0   \n",
       "56488                                       Fixed object        0.0   \n",
       "22942  From same direction - both going straight - bo...        0.0   \n",
       "\n",
       "      CROSSWALKKEY HITPARKEDCAR  \n",
       "21048          0.0            N  \n",
       "51253          0.0            N  \n",
       "26727          0.0            N  \n",
       "56488          0.0            N  \n",
       "22942          0.0            N  \n",
       "\n",
       "[5 rows x 28 columns]"
      ]
     },
     "execution_count": 11,
     "metadata": {},
     "output_type": "execute_result"
    }
   ],
   "source": [
    "df = df.astype({\"WEATHER\":'category', \"ROADCOND\":'category', \"LIGHTCOND\":'category'})\n",
    "df.head()"
   ]
  },
  {
   "cell_type": "code",
   "execution_count": 12,
   "metadata": {},
   "outputs": [],
   "source": [
    "df[\"WEATHER_c\"] = df[\"WEATHER\"].cat.codes\n",
    "df[\"ROADCOND_c\"] = df[\"ROADCOND\"].cat.codes\n",
    "df[\"LIGHTCOND_c\"] = df[\"LIGHTCOND\"].cat.codes\n",
    "Feature = df[['WEATHER','ROADCOND','LIGHTCOND','WEATHER_c','ROADCOND_c','LIGHTCOND_c']]\n",
    "X = np.asarray(Feature[['WEATHER_c','ROADCOND_c','LIGHTCOND_c']])"
   ]
  },
  {
   "cell_type": "code",
   "execution_count": 13,
   "metadata": {},
   "outputs": [
    {
     "data": {
      "text/html": [
       "<div>\n",
       "<style scoped>\n",
       "    .dataframe tbody tr th:only-of-type {\n",
       "        vertical-align: middle;\n",
       "    }\n",
       "\n",
       "    .dataframe tbody tr th {\n",
       "        vertical-align: top;\n",
       "    }\n",
       "\n",
       "    .dataframe thead th {\n",
       "        text-align: right;\n",
       "    }\n",
       "</style>\n",
       "<table border=\"1\" class=\"dataframe\">\n",
       "  <thead>\n",
       "    <tr style=\"text-align: right;\">\n",
       "      <th></th>\n",
       "      <th>WEATHER</th>\n",
       "      <th>ROADCOND</th>\n",
       "      <th>LIGHTCOND</th>\n",
       "      <th>WEATHER_c</th>\n",
       "      <th>ROADCOND_c</th>\n",
       "      <th>LIGHTCOND_c</th>\n",
       "    </tr>\n",
       "  </thead>\n",
       "  <tbody>\n",
       "    <tr>\n",
       "      <th>21048</th>\n",
       "      <td>Unknown</td>\n",
       "      <td>Unknown</td>\n",
       "      <td>Unknown</td>\n",
       "      <td>9</td>\n",
       "      <td>7</td>\n",
       "      <td>8</td>\n",
       "    </tr>\n",
       "    <tr>\n",
       "      <th>51253</th>\n",
       "      <td>Clear</td>\n",
       "      <td>Dry</td>\n",
       "      <td>Daylight</td>\n",
       "      <td>1</td>\n",
       "      <td>0</td>\n",
       "      <td>5</td>\n",
       "    </tr>\n",
       "    <tr>\n",
       "      <th>26727</th>\n",
       "      <td>Clear</td>\n",
       "      <td>Dry</td>\n",
       "      <td>Daylight</td>\n",
       "      <td>1</td>\n",
       "      <td>0</td>\n",
       "      <td>5</td>\n",
       "    </tr>\n",
       "    <tr>\n",
       "      <th>56488</th>\n",
       "      <td>Clear</td>\n",
       "      <td>Dry</td>\n",
       "      <td>Daylight</td>\n",
       "      <td>1</td>\n",
       "      <td>0</td>\n",
       "      <td>5</td>\n",
       "    </tr>\n",
       "    <tr>\n",
       "      <th>22942</th>\n",
       "      <td>Clear</td>\n",
       "      <td>Dry</td>\n",
       "      <td>Dark - Street Lights On</td>\n",
       "      <td>1</td>\n",
       "      <td>0</td>\n",
       "      <td>2</td>\n",
       "    </tr>\n",
       "  </tbody>\n",
       "</table>\n",
       "</div>"
      ],
      "text/plain": [
       "       WEATHER ROADCOND                LIGHTCOND  WEATHER_c  ROADCOND_c  \\\n",
       "21048  Unknown  Unknown                  Unknown          9           7   \n",
       "51253    Clear      Dry                 Daylight          1           0   \n",
       "26727    Clear      Dry                 Daylight          1           0   \n",
       "56488    Clear      Dry                 Daylight          1           0   \n",
       "22942    Clear      Dry  Dark - Street Lights On          1           0   \n",
       "\n",
       "       LIGHTCOND_c  \n",
       "21048            8  \n",
       "51253            5  \n",
       "26727            5  \n",
       "56488            5  \n",
       "22942            2  "
      ]
     },
     "execution_count": 13,
     "metadata": {},
     "output_type": "execute_result"
    }
   ],
   "source": [
    "Feature.head()"
   ]
  },
  {
   "cell_type": "code",
   "execution_count": 14,
   "metadata": {},
   "outputs": [
    {
     "data": {
      "text/plain": [
       "array([1, 1, 1, ..., 2, 2, 2])"
      ]
     },
     "execution_count": 14,
     "metadata": {},
     "output_type": "execute_result"
    }
   ],
   "source": [
    "y = df['SEVERITYCODE'].values\n",
    "y[0:]"
   ]
  },
  {
   "cell_type": "markdown",
   "metadata": {},
   "source": [
    "### Building The Models"
   ]
  },
  {
   "cell_type": "code",
   "execution_count": 15,
   "metadata": {},
   "outputs": [
    {
     "name": "stderr",
     "output_type": "stream",
     "text": [
      "/home/jupyterlab/conda/envs/python/lib/python3.6/site-packages/sklearn/utils/validation.py:595: DataConversionWarning: Data with input dtype int8 was converted to float64 by StandardScaler.\n",
      "  warnings.warn(msg, DataConversionWarning)\n",
      "/home/jupyterlab/conda/envs/python/lib/python3.6/site-packages/sklearn/utils/validation.py:595: DataConversionWarning: Data with input dtype int8 was converted to float64 by StandardScaler.\n",
      "  warnings.warn(msg, DataConversionWarning)\n"
     ]
    },
    {
     "data": {
      "text/plain": [
       "array([[ 2.96389979,  1.29536099,  2.11653393],\n",
       "       [-0.63096252, -0.63829668,  0.49414937],\n",
       "       [-0.63096252, -0.63829668,  0.49414937],\n",
       "       ...,\n",
       "       [-0.63096252, -0.63829668,  0.49414937],\n",
       "       [ 0.71711085,  1.5715978 ,  0.49414937],\n",
       "       [ 1.16646864,  1.5715978 ,  0.49414937]])"
      ]
     },
     "execution_count": 15,
     "metadata": {},
     "output_type": "execute_result"
    }
   ],
   "source": [
    "from sklearn import preprocessing\n",
    "X = preprocessing.StandardScaler().fit(X).transform(X)\n",
    "X[0:]"
   ]
  },
  {
   "cell_type": "code",
   "execution_count": 16,
   "metadata": {},
   "outputs": [
    {
     "name": "stdout",
     "output_type": "stream",
     "text": [
      "Test set shape:  (11746, 3) (11746,)\n",
      "Training set shape:  (27406, 3) (27406,)\n"
     ]
    }
   ],
   "source": [
    "from sklearn.model_selection import train_test_split\n",
    "X_train, X_test, y_train, y_test = train_test_split(X, y, test_size=0.3)\n",
    "print('Test set shape: ', X_test.shape, y_test.shape)\n",
    "print('Training set shape: ', X_train.shape, y_train.shape)"
   ]
  },
  {
   "cell_type": "markdown",
   "metadata": {},
   "source": [
    "#### K Nearest Neighbor(KNN)"
   ]
  },
  {
   "cell_type": "code",
   "execution_count": 17,
   "metadata": {},
   "outputs": [
    {
     "data": {
      "text/plain": [
       "array([1, 2, 1, ..., 1, 2, 1])"
      ]
     },
     "execution_count": 17,
     "metadata": {},
     "output_type": "execute_result"
    }
   ],
   "source": [
    "from sklearn.neighbors import KNeighborsClassifier\n",
    "k = 20\n",
    "#Train Model and Predict  \n",
    "neigh = KNeighborsClassifier(n_neighbors = k).fit(X_train,y_train)\n",
    "neigh_pred = neigh.predict(X_test)\n",
    "neigh_pred[0:]"
   ]
  },
  {
   "cell_type": "code",
   "execution_count": 18,
   "metadata": {},
   "outputs": [
    {
     "name": "stdout",
     "output_type": "stream",
     "text": [
      "KNN F1-Score:  0.4728902430702581\n",
      "KNN Jaccard Score:  0.5107270560190703\n"
     ]
    }
   ],
   "source": [
    "from sklearn.metrics import f1_score, jaccard_similarity_score, log_loss\n",
    "print('KNN F1-Score: ', f1_score(y_test, neigh_pred, average='macro'))\n",
    "print('KNN Jaccard Score: ', jaccard_similarity_score(y_test, neigh_pred))"
   ]
  },
  {
   "cell_type": "markdown",
   "metadata": {},
   "source": [
    "#### Support Vector Machine (SVM) "
   ]
  },
  {
   "cell_type": "code",
   "execution_count": 19,
   "metadata": {},
   "outputs": [],
   "source": [
    "from sklearn import svm\n",
    "y_train = y_train.astype(float)\n",
    "s_svm = svm.LinearSVC(random_state=7)\n",
    "s_svm.fit(X_train, y_train)  \n",
    "\n",
    "y_pred=s_svm.predict(X_train)"
   ]
  },
  {
   "cell_type": "code",
   "execution_count": 20,
   "metadata": {},
   "outputs": [
    {
     "name": "stdout",
     "output_type": "stream",
     "text": [
      "SVM F1-Score is:  0.4989861091715683\n",
      "SVM Jaccard Score is:  0.5132817631175655\n"
     ]
    }
   ],
   "source": [
    "print('SVM F1-Score is: ',f1_score(y_train, y_pred, average='weighted'))\n",
    "print('SVM Jaccard Score is: ',jaccard_similarity_score(y_train, y_pred))"
   ]
  },
  {
   "cell_type": "markdown",
   "metadata": {},
   "source": [
    "#### Decision Tree"
   ]
  },
  {
   "cell_type": "code",
   "execution_count": 21,
   "metadata": {},
   "outputs": [
    {
     "data": {
      "text/plain": [
       "array([2., 2., 2., ..., 2., 2., 2.])"
      ]
     },
     "execution_count": 21,
     "metadata": {},
     "output_type": "execute_result"
    }
   ],
   "source": [
    "from sklearn.tree import DecisionTreeClassifier\n",
    "tree = DecisionTreeClassifier(criterion='entropy',max_depth = 6)\n",
    "tree.fit(X_train, y_train)\n",
    "ptree = tree.predict(X_test)\n",
    "ptree[0:]"
   ]
  },
  {
   "cell_type": "code",
   "execution_count": 22,
   "metadata": {},
   "outputs": [
    {
     "name": "stdout",
     "output_type": "stream",
     "text": [
      "Decision Tree F1-Score:  0.5163454320970454\n",
      "Decision Tree Jaccard Score:  0.5425676826153584\n"
     ]
    }
   ],
   "source": [
    "print('Decision Tree F1-Score: ', f1_score(y_test, ptree, average='macro'))\n",
    "print('Decision Tree Jaccard Score: ', jaccard_similarity_score(y_test,ptree))"
   ]
  },
  {
   "cell_type": "markdown",
   "metadata": {},
   "source": [
    "#### Log Regression "
   ]
  },
  {
   "cell_type": "code",
   "execution_count": 23,
   "metadata": {},
   "outputs": [
    {
     "data": {
      "text/plain": [
       "array([2., 1., 2., ..., 2., 1., 2.])"
      ]
     },
     "execution_count": 23,
     "metadata": {},
     "output_type": "execute_result"
    }
   ],
   "source": [
    "from sklearn.linear_model import LogisticRegression\n",
    "LR = LogisticRegression(C=0.01, solver='liblinear').fit(X_train, y_train)\n",
    "LRPe = LR.predict(X_test)\n",
    "LRP = LR.predict_proba(X_test)\n",
    "LRPe[0:]"
   ]
  },
  {
   "cell_type": "code",
   "execution_count": 24,
   "metadata": {},
   "outputs": [
    {
     "name": "stdout",
     "output_type": "stream",
     "text": [
      "Logistic Regression F1-Score is:  0.49770236079637964\n",
      "Logistic Regression Jaccard Score is:  0.512004086497531\n",
      "Logistic Regression LogLoss is:  0.6902841320777876\n"
     ]
    }
   ],
   "source": [
    "print('Logistic Regression F1-Score is: ', f1_score(y_test, LRPe, average='macro'))\n",
    "print('Logistic Regression Jaccard Score is: ', jaccard_similarity_score(y_test, LRPe))\n",
    "print('Logistic Regression LogLoss is: ', log_loss(y_test, LRP))"
   ]
  },
  {
   "cell_type": "code",
   "execution_count": 25,
   "metadata": {},
   "outputs": [],
   "source": [
    "from sklearn.metrics import classification_report, confusion_matrix\n",
    "import itertools\n",
    "import matplotlib.pyplot as plt\n",
    "def plot_confusion_matrix(cm, classes,\n",
    "                          normalize=False,\n",
    "                          title='Confusion matrix',\n",
    "                          cmap=plt.cm.Reds):\n",
    "    \"\"\"\n",
    "    This function prints and plots the confusion matrix.\n",
    "    Normalization can be applied by setting `normalize=True`.\n",
    "    \"\"\"\n",
    "    if normalize:\n",
    "        cm = cm.astype('float') / cm.sum(axis=1)[:, np.newaxis]\n",
    "        print(\"Normalized confusion matrix\")\n",
    "    else:\n",
    "        print('Confusion matrix, without normalization')\n",
    "\n",
    "    print(cm)\n",
    "\n",
    "    plt.imshow(cm, interpolation='nearest', cmap=cmap)\n",
    "    plt.title(title)\n",
    "    plt.colorbar()\n",
    "    tick_marks = np.arange(len(classes))\n",
    "    plt.xticks(tick_marks, classes, rotation=45)\n",
    "    plt.yticks(tick_marks, classes)\n",
    "\n",
    "    fmt = '.2f' if normalize else 'd'\n",
    "    thresh = cm.max() / 2.\n",
    "    for i, j in itertools.product(range(cm.shape[0]), range(cm.shape[1])):\n",
    "        plt.text(j, i, format(cm[i, j], fmt),\n",
    "                 horizontalalignment=\"center\",\n",
    "                 color=\"white\" if cm[i, j] > thresh else \"black\")\n",
    "\n",
    "    plt.tight_layout()\n",
    "    plt.ylabel('True label')\n",
    "    plt.xlabel('Predicted label')"
   ]
  },
  {
   "cell_type": "code",
   "execution_count": 26,
   "metadata": {},
   "outputs": [
    {
     "name": "stdout",
     "output_type": "stream",
     "text": [
      "Confusion matrix, without normalization\n",
      "[[2016 3871]\n",
      " [1861 3998]]\n"
     ]
    },
    {
     "data": {
      "image/png": "[encoded data removed]",
      "text/plain": [
       "<Figure size 432x288 with 2 Axes>"
      ]
     },
     "metadata": {
      "needs_background": "light"
     },
     "output_type": "display_data"
    }
   ],
   "source": [
    "cnf_matrix = confusion_matrix(y_test, LRPe, labels=[1,2])\n",
    "np.set_printoptions(precision=2)\n",
    "\n",
    "# Non-normalized confusion matrix\n",
    "plt.figure()\n",
    "plot_confusion_matrix(cnf_matrix, classes=['SEVERITY=1','SEVERITY=2'],normalize= False,  title='Confusion matrix')"
   ]
  },
  {
   "cell_type": "code",
   "execution_count": 27,
   "metadata": {},
   "outputs": [
    {
     "name": "stdout",
     "output_type": "stream",
     "text": [
      "              precision    recall  f1-score   support\n",
      "\n",
      "           1       0.52      0.34      0.41      5887\n",
      "           2       0.51      0.68      0.58      5859\n",
      "\n",
      "   micro avg       0.51      0.51      0.51     11746\n",
      "   macro avg       0.51      0.51      0.50     11746\n",
      "weighted avg       0.51      0.51      0.50     11746\n",
      "\n"
     ]
    }
   ],
   "source": [
    "print(classification_report(y_test, LRPe))"
   ]
  },
  {
   "cell_type": "code",
   "execution_count": 28,
   "metadata": {},
   "outputs": [
    {
     "name": "stdout",
     "output_type": "stream",
     "text": [
      "KNN F1-Score:  0.4728902430702581\n",
      "Decision Tree F1-Score:  0.5163454320970454\n",
      "Logistic Regression F1-Score is:  0.49770236079637964\n",
      "SVM F1-Score is:  0.4989861091715683\n"
     ]
    }
   ],
   "source": [
    "# F1-Scores\n",
    "print('KNN F1-Score: ', f1_score(y_test, neigh_pred, average='macro'))\n",
    "print('Decision Tree F1-Score: ', f1_score(y_test, ptree, average='macro'))\n",
    "print('Logistic Regression F1-Score is: ', f1_score(y_test, LRPe, average='macro'))\n",
    "print('SVM F1-Score is: ',f1_score(y_train, y_pred, average='weighted'))"
   ]
  },
  {
   "cell_type": "code",
   "execution_count": 29,
   "metadata": {},
   "outputs": [
    {
     "name": "stdout",
     "output_type": "stream",
     "text": [
      "KNN Jaccard Score:  0.5107270560190703\n",
      "Decision Tree Jaccard Score:  0.5425676826153584\n",
      "Logistic Regression Jaccard Score is:  0.512004086497531\n",
      "SVM Jaccard Score is:  0.5132817631175655 \n",
      "\n",
      "Logistic Regression LogLoss is:  0.6902841320777876\n"
     ]
    }
   ],
   "source": [
    "# Jaccard Scores \n",
    "print('KNN Jaccard Score: ', jaccard_similarity_score(y_test, neigh_pred))\n",
    "print('Decision Tree Jaccard Score: ', jaccard_similarity_score(y_test,ptree))\n",
    "print('Logistic Regression Jaccard Score is: ', jaccard_similarity_score(y_test, LRPe))\n",
    "print('SVM Jaccard Score is: ',jaccard_similarity_score(y_train, y_pred),'\\n')\n",
    "# Log Loss Score\n",
    "print('Logistic Regression LogLoss is: ', log_loss(y_test, LRP))"
   ]
  },
  {
   "cell_type": "markdown",
   "metadata": {},
   "source": [
    "#### Based off of the testing done, the decision tree is the best model to test the data with.  "
   ]
  },
  {
   "cell_type": "markdown",
   "metadata": {},
   "source": [
    "### Findings - After testing the historical data provided by Seattle Departement of Transportation, we were not able to find if the time of day played a factor in the severity of an accident due to the data that was entered.  However, we did find that weather, light and road conditions have an impact on the severity of an accident; either class 1 - Property Damage or class 2 - Injury.  "
   ]
  }
 ],
 "metadata": {
  "kernelspec": {
   "display_name": "Python",
   "language": "python",
   "name": "conda-env-python-py"
  },
  "language_info": {
   "codemirror_mode": {
    "name": "ipython",
    "version": 3
   },
   "file_extension": ".py",
   "mimetype": "text/x-python",
   "name": "python",
   "nbconvert_exporter": "python",
   "pygments_lexer": "ipython3",
   "version": "3.6.11"
  }
 },
 "nbformat": 4,
 "nbformat_minor": 4
}
